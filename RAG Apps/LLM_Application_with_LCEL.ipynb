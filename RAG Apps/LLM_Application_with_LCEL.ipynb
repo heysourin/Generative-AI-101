{
  "nbformat": 4,
  "nbformat_minor": 0,
  "metadata": {
    "colab": {
      "provenance": [],
      "gpuType": "T4",
      "authorship_tag": "ABX9TyNm3twxyyrmuiNrBwXUIfZQ",
      "include_colab_link": true
    },
    "kernelspec": {
      "name": "python3",
      "display_name": "Python 3"
    },
    "language_info": {
      "name": "python"
    },
    "accelerator": "GPU",
    "widgets": {
      "application/vnd.jupyter.widget-state+json": {
        "c9317177e6c84db49e0b7336bd84a615": {
          "model_module": "@jupyter-widgets/controls",
          "model_name": "HBoxModel",
          "model_module_version": "1.5.0",
          "state": {
            "_dom_classes": [],
            "_model_module": "@jupyter-widgets/controls",
            "_model_module_version": "1.5.0",
            "_model_name": "HBoxModel",
            "_view_count": null,
            "_view_module": "@jupyter-widgets/controls",
            "_view_module_version": "1.5.0",
            "_view_name": "HBoxView",
            "box_style": "",
            "children": [
              "IPY_MODEL_ecb8e7559ee342fb9273632a2798e06c",
              "IPY_MODEL_f104a1987c3e49a698e509e15629a279",
              "IPY_MODEL_7ef9345610a645c19e8ca7fac5ad28e9"
            ],
            "layout": "IPY_MODEL_d2841de2b6564dcb9ef25b47b02fdc9b"
          }
        },
        "ecb8e7559ee342fb9273632a2798e06c": {
          "model_module": "@jupyter-widgets/controls",
          "model_name": "HTMLModel",
          "model_module_version": "1.5.0",
          "state": {
            "_dom_classes": [],
            "_model_module": "@jupyter-widgets/controls",
            "_model_module_version": "1.5.0",
            "_model_name": "HTMLModel",
            "_view_count": null,
            "_view_module": "@jupyter-widgets/controls",
            "_view_module_version": "1.5.0",
            "_view_name": "HTMLView",
            "description": "",
            "description_tooltip": null,
            "layout": "IPY_MODEL_91b8a7f0230e4a03b004063133dd121b",
            "placeholder": "​",
            "style": "IPY_MODEL_1ff60b5dd8f3443582596e3e76d4c0bb",
            "value": "Fetching 1 files: 100%"
          }
        },
        "f104a1987c3e49a698e509e15629a279": {
          "model_module": "@jupyter-widgets/controls",
          "model_name": "FloatProgressModel",
          "model_module_version": "1.5.0",
          "state": {
            "_dom_classes": [],
            "_model_module": "@jupyter-widgets/controls",
            "_model_module_version": "1.5.0",
            "_model_name": "FloatProgressModel",
            "_view_count": null,
            "_view_module": "@jupyter-widgets/controls",
            "_view_module_version": "1.5.0",
            "_view_name": "ProgressView",
            "bar_style": "success",
            "description": "",
            "description_tooltip": null,
            "layout": "IPY_MODEL_190dea1503a940bdaafefc86dad6070f",
            "max": 1,
            "min": 0,
            "orientation": "horizontal",
            "style": "IPY_MODEL_6f69b1a8a42842aaa21e4bb92ae246db",
            "value": 1
          }
        },
        "7ef9345610a645c19e8ca7fac5ad28e9": {
          "model_module": "@jupyter-widgets/controls",
          "model_name": "HTMLModel",
          "model_module_version": "1.5.0",
          "state": {
            "_dom_classes": [],
            "_model_module": "@jupyter-widgets/controls",
            "_model_module_version": "1.5.0",
            "_model_name": "HTMLModel",
            "_view_count": null,
            "_view_module": "@jupyter-widgets/controls",
            "_view_module_version": "1.5.0",
            "_view_name": "HTMLView",
            "description": "",
            "description_tooltip": null,
            "layout": "IPY_MODEL_32ab7eb14e334c44a035dc531cf06a6a",
            "placeholder": "​",
            "style": "IPY_MODEL_be5086d0c05e40fc85bd9278030f75cb",
            "value": " 1/1 [00:00&lt;00:00, 68.84it/s]"
          }
        },
        "d2841de2b6564dcb9ef25b47b02fdc9b": {
          "model_module": "@jupyter-widgets/base",
          "model_name": "LayoutModel",
          "model_module_version": "1.2.0",
          "state": {
            "_model_module": "@jupyter-widgets/base",
            "_model_module_version": "1.2.0",
            "_model_name": "LayoutModel",
            "_view_count": null,
            "_view_module": "@jupyter-widgets/base",
            "_view_module_version": "1.2.0",
            "_view_name": "LayoutView",
            "align_content": null,
            "align_items": null,
            "align_self": null,
            "border": null,
            "bottom": null,
            "display": null,
            "flex": null,
            "flex_flow": null,
            "grid_area": null,
            "grid_auto_columns": null,
            "grid_auto_flow": null,
            "grid_auto_rows": null,
            "grid_column": null,
            "grid_gap": null,
            "grid_row": null,
            "grid_template_areas": null,
            "grid_template_columns": null,
            "grid_template_rows": null,
            "height": null,
            "justify_content": null,
            "justify_items": null,
            "left": null,
            "margin": null,
            "max_height": null,
            "max_width": null,
            "min_height": null,
            "min_width": null,
            "object_fit": null,
            "object_position": null,
            "order": null,
            "overflow": null,
            "overflow_x": null,
            "overflow_y": null,
            "padding": null,
            "right": null,
            "top": null,
            "visibility": null,
            "width": null
          }
        },
        "91b8a7f0230e4a03b004063133dd121b": {
          "model_module": "@jupyter-widgets/base",
          "model_name": "LayoutModel",
          "model_module_version": "1.2.0",
          "state": {
            "_model_module": "@jupyter-widgets/base",
            "_model_module_version": "1.2.0",
            "_model_name": "LayoutModel",
            "_view_count": null,
            "_view_module": "@jupyter-widgets/base",
            "_view_module_version": "1.2.0",
            "_view_name": "LayoutView",
            "align_content": null,
            "align_items": null,
            "align_self": null,
            "border": null,
            "bottom": null,
            "display": null,
            "flex": null,
            "flex_flow": null,
            "grid_area": null,
            "grid_auto_columns": null,
            "grid_auto_flow": null,
            "grid_auto_rows": null,
            "grid_column": null,
            "grid_gap": null,
            "grid_row": null,
            "grid_template_areas": null,
            "grid_template_columns": null,
            "grid_template_rows": null,
            "height": null,
            "justify_content": null,
            "justify_items": null,
            "left": null,
            "margin": null,
            "max_height": null,
            "max_width": null,
            "min_height": null,
            "min_width": null,
            "object_fit": null,
            "object_position": null,
            "order": null,
            "overflow": null,
            "overflow_x": null,
            "overflow_y": null,
            "padding": null,
            "right": null,
            "top": null,
            "visibility": null,
            "width": null
          }
        },
        "1ff60b5dd8f3443582596e3e76d4c0bb": {
          "model_module": "@jupyter-widgets/controls",
          "model_name": "DescriptionStyleModel",
          "model_module_version": "1.5.0",
          "state": {
            "_model_module": "@jupyter-widgets/controls",
            "_model_module_version": "1.5.0",
            "_model_name": "DescriptionStyleModel",
            "_view_count": null,
            "_view_module": "@jupyter-widgets/base",
            "_view_module_version": "1.2.0",
            "_view_name": "StyleView",
            "description_width": ""
          }
        },
        "190dea1503a940bdaafefc86dad6070f": {
          "model_module": "@jupyter-widgets/base",
          "model_name": "LayoutModel",
          "model_module_version": "1.2.0",
          "state": {
            "_model_module": "@jupyter-widgets/base",
            "_model_module_version": "1.2.0",
            "_model_name": "LayoutModel",
            "_view_count": null,
            "_view_module": "@jupyter-widgets/base",
            "_view_module_version": "1.2.0",
            "_view_name": "LayoutView",
            "align_content": null,
            "align_items": null,
            "align_self": null,
            "border": null,
            "bottom": null,
            "display": null,
            "flex": null,
            "flex_flow": null,
            "grid_area": null,
            "grid_auto_columns": null,
            "grid_auto_flow": null,
            "grid_auto_rows": null,
            "grid_column": null,
            "grid_gap": null,
            "grid_row": null,
            "grid_template_areas": null,
            "grid_template_columns": null,
            "grid_template_rows": null,
            "height": null,
            "justify_content": null,
            "justify_items": null,
            "left": null,
            "margin": null,
            "max_height": null,
            "max_width": null,
            "min_height": null,
            "min_width": null,
            "object_fit": null,
            "object_position": null,
            "order": null,
            "overflow": null,
            "overflow_x": null,
            "overflow_y": null,
            "padding": null,
            "right": null,
            "top": null,
            "visibility": null,
            "width": null
          }
        },
        "6f69b1a8a42842aaa21e4bb92ae246db": {
          "model_module": "@jupyter-widgets/controls",
          "model_name": "ProgressStyleModel",
          "model_module_version": "1.5.0",
          "state": {
            "_model_module": "@jupyter-widgets/controls",
            "_model_module_version": "1.5.0",
            "_model_name": "ProgressStyleModel",
            "_view_count": null,
            "_view_module": "@jupyter-widgets/base",
            "_view_module_version": "1.2.0",
            "_view_name": "StyleView",
            "bar_color": null,
            "description_width": ""
          }
        },
        "32ab7eb14e334c44a035dc531cf06a6a": {
          "model_module": "@jupyter-widgets/base",
          "model_name": "LayoutModel",
          "model_module_version": "1.2.0",
          "state": {
            "_model_module": "@jupyter-widgets/base",
            "_model_module_version": "1.2.0",
            "_model_name": "LayoutModel",
            "_view_count": null,
            "_view_module": "@jupyter-widgets/base",
            "_view_module_version": "1.2.0",
            "_view_name": "LayoutView",
            "align_content": null,
            "align_items": null,
            "align_self": null,
            "border": null,
            "bottom": null,
            "display": null,
            "flex": null,
            "flex_flow": null,
            "grid_area": null,
            "grid_auto_columns": null,
            "grid_auto_flow": null,
            "grid_auto_rows": null,
            "grid_column": null,
            "grid_gap": null,
            "grid_row": null,
            "grid_template_areas": null,
            "grid_template_columns": null,
            "grid_template_rows": null,
            "height": null,
            "justify_content": null,
            "justify_items": null,
            "left": null,
            "margin": null,
            "max_height": null,
            "max_width": null,
            "min_height": null,
            "min_width": null,
            "object_fit": null,
            "object_position": null,
            "order": null,
            "overflow": null,
            "overflow_x": null,
            "overflow_y": null,
            "padding": null,
            "right": null,
            "top": null,
            "visibility": null,
            "width": null
          }
        },
        "be5086d0c05e40fc85bd9278030f75cb": {
          "model_module": "@jupyter-widgets/controls",
          "model_name": "DescriptionStyleModel",
          "model_module_version": "1.5.0",
          "state": {
            "_model_module": "@jupyter-widgets/controls",
            "_model_module_version": "1.5.0",
            "_model_name": "DescriptionStyleModel",
            "_view_count": null,
            "_view_module": "@jupyter-widgets/base",
            "_view_module_version": "1.2.0",
            "_view_name": "StyleView",
            "description_width": ""
          }
        },
        "68e33c9e86dd463aac731e0e21cfe812": {
          "model_module": "@jupyter-widgets/controls",
          "model_name": "HBoxModel",
          "model_module_version": "1.5.0",
          "state": {
            "_dom_classes": [],
            "_model_module": "@jupyter-widgets/controls",
            "_model_module_version": "1.5.0",
            "_model_name": "HBoxModel",
            "_view_count": null,
            "_view_module": "@jupyter-widgets/controls",
            "_view_module_version": "1.5.0",
            "_view_name": "HBoxView",
            "box_style": "",
            "children": [
              "IPY_MODEL_39102bf6431149539891d88e5f10d488",
              "IPY_MODEL_577df00b9fe942f587beb87c36bfdf00",
              "IPY_MODEL_a366633e5b9241959994f3072d96b894"
            ],
            "layout": "IPY_MODEL_a449e35f596a4ac385b23414eb64bf32"
          }
        },
        "39102bf6431149539891d88e5f10d488": {
          "model_module": "@jupyter-widgets/controls",
          "model_name": "HTMLModel",
          "model_module_version": "1.5.0",
          "state": {
            "_dom_classes": [],
            "_model_module": "@jupyter-widgets/controls",
            "_model_module_version": "1.5.0",
            "_model_name": "HTMLModel",
            "_view_count": null,
            "_view_module": "@jupyter-widgets/controls",
            "_view_module_version": "1.5.0",
            "_view_name": "HTMLView",
            "description": "",
            "description_tooltip": null,
            "layout": "IPY_MODEL_7e4a574d9b79404fa0e312982f21b7cf",
            "placeholder": "​",
            "style": "IPY_MODEL_886b4cf44c184245bace373a4397dc87",
            "value": "Fetching 1 files: 100%"
          }
        },
        "577df00b9fe942f587beb87c36bfdf00": {
          "model_module": "@jupyter-widgets/controls",
          "model_name": "FloatProgressModel",
          "model_module_version": "1.5.0",
          "state": {
            "_dom_classes": [],
            "_model_module": "@jupyter-widgets/controls",
            "_model_module_version": "1.5.0",
            "_model_name": "FloatProgressModel",
            "_view_count": null,
            "_view_module": "@jupyter-widgets/controls",
            "_view_module_version": "1.5.0",
            "_view_name": "ProgressView",
            "bar_style": "success",
            "description": "",
            "description_tooltip": null,
            "layout": "IPY_MODEL_5e18ce08864b45d88bee5b5f671eb879",
            "max": 1,
            "min": 0,
            "orientation": "horizontal",
            "style": "IPY_MODEL_71e8ae82bc794c4f94027314043f7f22",
            "value": 1
          }
        },
        "a366633e5b9241959994f3072d96b894": {
          "model_module": "@jupyter-widgets/controls",
          "model_name": "HTMLModel",
          "model_module_version": "1.5.0",
          "state": {
            "_dom_classes": [],
            "_model_module": "@jupyter-widgets/controls",
            "_model_module_version": "1.5.0",
            "_model_name": "HTMLModel",
            "_view_count": null,
            "_view_module": "@jupyter-widgets/controls",
            "_view_module_version": "1.5.0",
            "_view_name": "HTMLView",
            "description": "",
            "description_tooltip": null,
            "layout": "IPY_MODEL_f90623f193204461a282f3fdc220a8db",
            "placeholder": "​",
            "style": "IPY_MODEL_d50ccbeab3904a8f86896c89262720e1",
            "value": " 1/1 [00:00&lt;00:00, 56.43it/s]"
          }
        },
        "a449e35f596a4ac385b23414eb64bf32": {
          "model_module": "@jupyter-widgets/base",
          "model_name": "LayoutModel",
          "model_module_version": "1.2.0",
          "state": {
            "_model_module": "@jupyter-widgets/base",
            "_model_module_version": "1.2.0",
            "_model_name": "LayoutModel",
            "_view_count": null,
            "_view_module": "@jupyter-widgets/base",
            "_view_module_version": "1.2.0",
            "_view_name": "LayoutView",
            "align_content": null,
            "align_items": null,
            "align_self": null,
            "border": null,
            "bottom": null,
            "display": null,
            "flex": null,
            "flex_flow": null,
            "grid_area": null,
            "grid_auto_columns": null,
            "grid_auto_flow": null,
            "grid_auto_rows": null,
            "grid_column": null,
            "grid_gap": null,
            "grid_row": null,
            "grid_template_areas": null,
            "grid_template_columns": null,
            "grid_template_rows": null,
            "height": null,
            "justify_content": null,
            "justify_items": null,
            "left": null,
            "margin": null,
            "max_height": null,
            "max_width": null,
            "min_height": null,
            "min_width": null,
            "object_fit": null,
            "object_position": null,
            "order": null,
            "overflow": null,
            "overflow_x": null,
            "overflow_y": null,
            "padding": null,
            "right": null,
            "top": null,
            "visibility": null,
            "width": null
          }
        },
        "7e4a574d9b79404fa0e312982f21b7cf": {
          "model_module": "@jupyter-widgets/base",
          "model_name": "LayoutModel",
          "model_module_version": "1.2.0",
          "state": {
            "_model_module": "@jupyter-widgets/base",
            "_model_module_version": "1.2.0",
            "_model_name": "LayoutModel",
            "_view_count": null,
            "_view_module": "@jupyter-widgets/base",
            "_view_module_version": "1.2.0",
            "_view_name": "LayoutView",
            "align_content": null,
            "align_items": null,
            "align_self": null,
            "border": null,
            "bottom": null,
            "display": null,
            "flex": null,
            "flex_flow": null,
            "grid_area": null,
            "grid_auto_columns": null,
            "grid_auto_flow": null,
            "grid_auto_rows": null,
            "grid_column": null,
            "grid_gap": null,
            "grid_row": null,
            "grid_template_areas": null,
            "grid_template_columns": null,
            "grid_template_rows": null,
            "height": null,
            "justify_content": null,
            "justify_items": null,
            "left": null,
            "margin": null,
            "max_height": null,
            "max_width": null,
            "min_height": null,
            "min_width": null,
            "object_fit": null,
            "object_position": null,
            "order": null,
            "overflow": null,
            "overflow_x": null,
            "overflow_y": null,
            "padding": null,
            "right": null,
            "top": null,
            "visibility": null,
            "width": null
          }
        },
        "886b4cf44c184245bace373a4397dc87": {
          "model_module": "@jupyter-widgets/controls",
          "model_name": "DescriptionStyleModel",
          "model_module_version": "1.5.0",
          "state": {
            "_model_module": "@jupyter-widgets/controls",
            "_model_module_version": "1.5.0",
            "_model_name": "DescriptionStyleModel",
            "_view_count": null,
            "_view_module": "@jupyter-widgets/base",
            "_view_module_version": "1.2.0",
            "_view_name": "StyleView",
            "description_width": ""
          }
        },
        "5e18ce08864b45d88bee5b5f671eb879": {
          "model_module": "@jupyter-widgets/base",
          "model_name": "LayoutModel",
          "model_module_version": "1.2.0",
          "state": {
            "_model_module": "@jupyter-widgets/base",
            "_model_module_version": "1.2.0",
            "_model_name": "LayoutModel",
            "_view_count": null,
            "_view_module": "@jupyter-widgets/base",
            "_view_module_version": "1.2.0",
            "_view_name": "LayoutView",
            "align_content": null,
            "align_items": null,
            "align_self": null,
            "border": null,
            "bottom": null,
            "display": null,
            "flex": null,
            "flex_flow": null,
            "grid_area": null,
            "grid_auto_columns": null,
            "grid_auto_flow": null,
            "grid_auto_rows": null,
            "grid_column": null,
            "grid_gap": null,
            "grid_row": null,
            "grid_template_areas": null,
            "grid_template_columns": null,
            "grid_template_rows": null,
            "height": null,
            "justify_content": null,
            "justify_items": null,
            "left": null,
            "margin": null,
            "max_height": null,
            "max_width": null,
            "min_height": null,
            "min_width": null,
            "object_fit": null,
            "object_position": null,
            "order": null,
            "overflow": null,
            "overflow_x": null,
            "overflow_y": null,
            "padding": null,
            "right": null,
            "top": null,
            "visibility": null,
            "width": null
          }
        },
        "71e8ae82bc794c4f94027314043f7f22": {
          "model_module": "@jupyter-widgets/controls",
          "model_name": "ProgressStyleModel",
          "model_module_version": "1.5.0",
          "state": {
            "_model_module": "@jupyter-widgets/controls",
            "_model_module_version": "1.5.0",
            "_model_name": "ProgressStyleModel",
            "_view_count": null,
            "_view_module": "@jupyter-widgets/base",
            "_view_module_version": "1.2.0",
            "_view_name": "StyleView",
            "bar_color": null,
            "description_width": ""
          }
        },
        "f90623f193204461a282f3fdc220a8db": {
          "model_module": "@jupyter-widgets/base",
          "model_name": "LayoutModel",
          "model_module_version": "1.2.0",
          "state": {
            "_model_module": "@jupyter-widgets/base",
            "_model_module_version": "1.2.0",
            "_model_name": "LayoutModel",
            "_view_count": null,
            "_view_module": "@jupyter-widgets/base",
            "_view_module_version": "1.2.0",
            "_view_name": "LayoutView",
            "align_content": null,
            "align_items": null,
            "align_self": null,
            "border": null,
            "bottom": null,
            "display": null,
            "flex": null,
            "flex_flow": null,
            "grid_area": null,
            "grid_auto_columns": null,
            "grid_auto_flow": null,
            "grid_auto_rows": null,
            "grid_column": null,
            "grid_gap": null,
            "grid_row": null,
            "grid_template_areas": null,
            "grid_template_columns": null,
            "grid_template_rows": null,
            "height": null,
            "justify_content": null,
            "justify_items": null,
            "left": null,
            "margin": null,
            "max_height": null,
            "max_width": null,
            "min_height": null,
            "min_width": null,
            "object_fit": null,
            "object_position": null,
            "order": null,
            "overflow": null,
            "overflow_x": null,
            "overflow_y": null,
            "padding": null,
            "right": null,
            "top": null,
            "visibility": null,
            "width": null
          }
        },
        "d50ccbeab3904a8f86896c89262720e1": {
          "model_module": "@jupyter-widgets/controls",
          "model_name": "DescriptionStyleModel",
          "model_module_version": "1.5.0",
          "state": {
            "_model_module": "@jupyter-widgets/controls",
            "_model_module_version": "1.5.0",
            "_model_name": "DescriptionStyleModel",
            "_view_count": null,
            "_view_module": "@jupyter-widgets/base",
            "_view_module_version": "1.2.0",
            "_view_name": "StyleView",
            "description_width": ""
          }
        }
      }
    }
  },
  "cells": [
    {
      "cell_type": "markdown",
      "metadata": {
        "id": "view-in-github",
        "colab_type": "text"
      },
      "source": [
        "<a href=\"https://colab.research.google.com/github/heysourin/Generative-AI-101/blob/main/RAG%20Apps/LLM_Application_with_LCEL.ipynb\" target=\"_parent\"><img src=\"https://colab.research.google.com/assets/colab-badge.svg\" alt=\"Open In Colab\"/></a>"
      ]
    },
    {
      "cell_type": "markdown",
      "source": [
        "## **RAG Application using LangChain and Open Source Models:**"
      ],
      "metadata": {
        "id": "Ocx3v4PGJRZN"
      }
    },
    {
      "cell_type": "code",
      "source": [
        "!pip install -q langchain langchain_community pypdf sentence-transformers faiss-gpu ctransformers"
      ],
      "metadata": {
        "id": "H1fEzhGlOdBc"
      },
      "execution_count": 35,
      "outputs": []
    },
    {
      "cell_type": "code",
      "source": [
        "from langchain.embeddings import HuggingFaceEmbeddings\n",
        "from langchain.vectorstores import FAISS\n",
        "from langchain.document_loaders import PyPDFLoader, DirectoryLoader\n",
        "from langchain.text_splitter import RecursiveCharacterTextSplitter"
      ],
      "metadata": {
        "id": "NYwCTeDPN1dj"
      },
      "execution_count": 36,
      "outputs": []
    },
    {
      "cell_type": "code",
      "source": [
        "DATA_DIR_PATH = \"/content/\"\n",
        "CHUNK_SIZE = 500\n",
        "CHUNK_OVERLAP = 200\n",
        "VECTOR_DB_PATH = \"/content/\"\n",
        "EMBEDDER = \"thenlper/gte-large\" # Huggingface Embedding model\n",
        "\n",
        "\n",
        "def chunk_and_store():\n",
        "  dir_loader = DirectoryLoader(\n",
        "    DATA_DIR_PATH,\n",
        "    glob='*.pdf',\n",
        "    loader_cls=PyPDFLoader\n",
        "  )\n",
        "\n",
        "  docs = dir_loader.load()\n",
        "  print(\"PDFs Loaded & Chunking starts...\")\n",
        "\n",
        "  text_splitter = RecursiveCharacterTextSplitter(\n",
        "    chunk_size=CHUNK_SIZE,\n",
        "    chunk_overlap=CHUNK_OVERLAP\n",
        "  )\n",
        "\n",
        "  inp_txt = text_splitter.split_documents(docs)\n",
        "  print(\"Data Chunks Created & Vector storing starts...\")\n",
        "\n",
        "  hfembeddings = HuggingFaceEmbeddings(\n",
        "                  model_name=EMBEDDER,\n",
        "                  model_kwargs={'device': 'cuda'}\n",
        "                  )\n",
        "\n",
        "  db = FAISS.from_documents(inp_txt, hfembeddings)\n",
        "  db.save_local(VECTOR_DB_PATH)\n",
        "\n",
        "  print(\"Vector Store Creation Completed\")"
      ],
      "metadata": {
        "id": "InxI4D4SOGIK"
      },
      "execution_count": 37,
      "outputs": []
    },
    {
      "cell_type": "code",
      "source": [
        "from langchain import PromptTemplate\n",
        "from langchain.embeddings import HuggingFaceEmbeddings\n",
        "from langchain.vectorstores import FAISS\n",
        "from langchain.llms import CTransformers\n",
        "from langchain.chains import RetrievalQA"
      ],
      "metadata": {
        "id": "QGN0l7pbPCqV"
      },
      "execution_count": 38,
      "outputs": []
    },
    {
      "cell_type": "code",
      "source": [
        "PROMPT_TEMPLATE = '''\n",
        "  With the information provided try to answer the question.\n",
        "  You are an expert in the field. Use the following context to answer the question as accurately as possible.\n",
        "  If the context does not contain enough information to answer the question, please state that explicitly.\n",
        "\n",
        "  Context: {context}\n",
        "\n",
        "  Question: {question}\n",
        "\n",
        "  Answer:\n",
        "'''\n",
        "\n",
        "INP_VARS = ['context', 'question']\n",
        "CHAIN_TYPE = \"stuff\"\n",
        "SEARCH_KWARGS = {'k': 1}\n",
        "MODEL_CKPT = \"TheBloke/Llama-2-7B-Chat-GGML\"\n",
        "MODEL_TYPE = \"llama\"\n",
        "MAX_NEW_TOKENS = 512\n",
        "TEMPERATURE = 0.9"
      ],
      "metadata": {
        "id": "doGmje4W5L7k"
      },
      "execution_count": 39,
      "outputs": []
    },
    {
      "cell_type": "code",
      "source": [
        "class EduBotCreator:\n",
        "  def __init__(self):\n",
        "    self.prompt_temp = PROMPT_TEMPLATE\n",
        "    self.input_variables = INP_VARS\n",
        "    self.chain_type = CHAIN_TYPE\n",
        "    self.search_kwargs = SEARCH_KWARGS\n",
        "    self.embedder = EMBEDDER\n",
        "    self.vector_db_path = VECTOR_DB_PATH\n",
        "    self.model_ckpt = MODEL_CKPT\n",
        "    self.model_type = MODEL_TYPE\n",
        "    self.max_new_tokens = MAX_NEW_TOKENS\n",
        "    self.temperature = TEMPERATURE\n",
        "\n",
        "  def create_prompt(self):\n",
        "    custom_prompt_temp = PromptTemplate(template=self.prompt_temp,\n",
        "                          input_variables=self.input_variables)\n",
        "    return custom_prompt_temp\n",
        "\n",
        "  def load_llm(self):\n",
        "    llm = CTransformers(model = self.model_ckpt,\n",
        "                        model_type=self.model_type,\n",
        "                        max_new_tokens = self.max_new_tokens,\n",
        "                        temperature = self.temperature\n",
        "                        )\n",
        "    return llm\n",
        "\n",
        "  def load_vectordb(self):\n",
        "    hfembeddings = HuggingFaceEmbeddings(model_name=self.embedder,\n",
        "                                         model_kwargs={'device': 'cuda'}\n",
        "                                        )\n",
        "    vector_db = FAISS.load_local(self.vector_db_path, hfembeddings, allow_dangerous_deserialization=True)\n",
        "    return vector_db\n",
        "\n",
        "  def create_bot(self, custom_prompt, vectordb, llm):\n",
        "    retrieval_qa_chain = RetrievalQA.from_chain_type(\n",
        "                                llm=llm,\n",
        "                                chain_type=self.chain_type,\n",
        "                                retriever=vectordb.as_retriever(search_kwargs=self.search_kwargs),\n",
        "                                return_source_documents=True,\n",
        "                                chain_type_kwargs={\"prompt\": custom_prompt}\n",
        "                                )\n",
        "    return retrieval_qa_chain\n",
        "\n",
        "  def create_chatbot(self):\n",
        "    self.custom_prompt = self.create_prompt()\n",
        "    self.vector_db = self.load_vectordb()\n",
        "    self.llm = self.load_llm()\n",
        "    self.bot = self.create_bot(self.custom_prompt, self.vector_db, self.llm)\n",
        "    return self.bot"
      ],
      "metadata": {
        "id": "cxsf617B0Mdb"
      },
      "execution_count": 40,
      "outputs": []
    },
    {
      "cell_type": "code",
      "source": [
        "chunk_and_store()"
      ],
      "metadata": {
        "colab": {
          "base_uri": "https://localhost:8080/"
        },
        "id": "eXYrxlK1Tk6f",
        "outputId": "25050cea-be95-4615-8a94-27943f14035c"
      },
      "execution_count": 41,
      "outputs": [
        {
          "output_type": "stream",
          "name": "stdout",
          "text": [
            "PDFs Loaded & Chunking starts...\n",
            "Data Chunks Created & Vector storing starts...\n"
          ]
        },
        {
          "output_type": "stream",
          "name": "stderr",
          "text": [
            "/usr/local/lib/python3.10/dist-packages/huggingface_hub/file_download.py:1132: FutureWarning: `resume_download` is deprecated and will be removed in version 1.0.0. Downloads always resume when possible. If you want to force a new download, use `force_download=True`.\n",
            "  warnings.warn(\n"
          ]
        },
        {
          "output_type": "stream",
          "name": "stdout",
          "text": [
            "Vector Store Creation Completed\n"
          ]
        }
      ]
    },
    {
      "cell_type": "code",
      "source": [
        "edubot_creator = EduBotCreator()\n",
        "edubot = edubot_creator.create_chatbot()"
      ],
      "metadata": {
        "colab": {
          "base_uri": "https://localhost:8080/",
          "height": 81,
          "referenced_widgets": [
            "c9317177e6c84db49e0b7336bd84a615",
            "ecb8e7559ee342fb9273632a2798e06c",
            "f104a1987c3e49a698e509e15629a279",
            "7ef9345610a645c19e8ca7fac5ad28e9",
            "d2841de2b6564dcb9ef25b47b02fdc9b",
            "91b8a7f0230e4a03b004063133dd121b",
            "1ff60b5dd8f3443582596e3e76d4c0bb",
            "190dea1503a940bdaafefc86dad6070f",
            "6f69b1a8a42842aaa21e4bb92ae246db",
            "32ab7eb14e334c44a035dc531cf06a6a",
            "be5086d0c05e40fc85bd9278030f75cb",
            "68e33c9e86dd463aac731e0e21cfe812",
            "39102bf6431149539891d88e5f10d488",
            "577df00b9fe942f587beb87c36bfdf00",
            "a366633e5b9241959994f3072d96b894",
            "a449e35f596a4ac385b23414eb64bf32",
            "7e4a574d9b79404fa0e312982f21b7cf",
            "886b4cf44c184245bace373a4397dc87",
            "5e18ce08864b45d88bee5b5f671eb879",
            "71e8ae82bc794c4f94027314043f7f22",
            "f90623f193204461a282f3fdc220a8db",
            "d50ccbeab3904a8f86896c89262720e1"
          ]
        },
        "id": "h31SAZv0ToYa",
        "outputId": "18ea42ae-2004-483f-b5e2-74236eb455ae"
      },
      "execution_count": 42,
      "outputs": [
        {
          "output_type": "display_data",
          "data": {
            "text/plain": [
              "Fetching 1 files:   0%|          | 0/1 [00:00<?, ?it/s]"
            ],
            "application/vnd.jupyter.widget-view+json": {
              "version_major": 2,
              "version_minor": 0,
              "model_id": "c9317177e6c84db49e0b7336bd84a615"
            }
          },
          "metadata": {}
        },
        {
          "output_type": "display_data",
          "data": {
            "text/plain": [
              "Fetching 1 files:   0%|          | 0/1 [00:00<?, ?it/s]"
            ],
            "application/vnd.jupyter.widget-view+json": {
              "version_major": 2,
              "version_minor": 0,
              "model_id": "68e33c9e86dd463aac731e0e21cfe812"
            }
          },
          "metadata": {}
        }
      ]
    },
    {
      "cell_type": "code",
      "source": [
        "# Function to ask question from the bot\n",
        "def ask_question(bot, question):\n",
        "  query = {\"query\": question}\n",
        "  result = bot(query)\n",
        "  return result[\"result\"]\n",
        "\n",
        "# Example usage\n",
        "question = \"What is the main topic of the first PDF?\"\n",
        "answer = ask_question(edubot, question)\n",
        "print(f\"Answer: {answer}\")"
      ],
      "metadata": {
        "colab": {
          "base_uri": "https://localhost:8080/"
        },
        "id": "Es8XZmo11gUi",
        "outputId": "d6247bcc-24b0-4ce7-aa8d-3ef753fe5e2c"
      },
      "execution_count": 43,
      "outputs": [
        {
          "output_type": "stream",
          "name": "stdout",
          "text": [
            "Answer: The main topic of the first PDF is the improvement of word embeddings using large unlabeled data sets.\n"
          ]
        }
      ]
    },
    {
      "cell_type": "code",
      "source": [
        "question = \"What is Part-Of-Speech Tagging?\"\n",
        "answer = ask_question(edubot, question)\n",
        "print(f\"Answer: {answer}\")"
      ],
      "metadata": {
        "colab": {
          "base_uri": "https://localhost:8080/"
        },
        "id": "7I7UqeYY0ZVW",
        "outputId": "b7165a5b-8c4a-4981-ee45-4efa3a2e985b"
      },
      "execution_count": 44,
      "outputs": [
        {
          "output_type": "stream",
          "name": "stdout",
          "text": [
            "Answer: Part-Of-Speech (POS) tagging is the task of assigning a word or phrase a label that indicates its part of speech. This label can be a single word, such as \"noun\", \"verb\", \"adjective\", etc., or it can be a more detailed label that indicates the specific class of words that the word belongs to, such as \"noun\", \"countable noun\", \"uncountable noun\", \"verb\", \"past tense\", \"present tense\", etc. The goal of POS tagging is to accurately identify the part of speech for each word in a sentence or text, which can be useful in various applications such as language modeling, natural language processing, and information retrieval.\n"
          ]
        }
      ]
    },
    {
      "cell_type": "code",
      "source": [],
      "metadata": {
        "id": "5GFdY2fF58Yt"
      },
      "execution_count": 44,
      "outputs": []
    }
  ]
}
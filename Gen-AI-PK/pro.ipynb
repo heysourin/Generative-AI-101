{
 "cells": [
  {
   "cell_type": "code",
   "execution_count": 1,
   "metadata": {},
   "outputs": [],
   "source": [
    "import os \n",
    "\n",
    "from dotenv import load_dotenv\n",
    "\n",
    "load_dotenv()\n",
    "api_key = os.getenv(\"API_KEY\")\n",
    "\n",
    "os.environ[\"OPENAI_API_KEY\"]=api_key "
   ]
  },
  {
   "cell_type": "code",
   "execution_count": 1,
   "metadata": {},
   "outputs": [
    {
     "name": "stdout",
     "output_type": "stream",
     "text": [
      "Requirement already satisfied: python-dotenv in ./myenv/lib/python3.11/site-packages (1.0.1)\n"
     ]
    }
   ],
   "source": []
  },
  {
   "cell_type": "code",
   "execution_count": 2,
   "metadata": {},
   "outputs": [],
   "source": [
    "import openai\n",
    "\n",
    "\n",
    "def get_completion(prompt, model=\"gpt-3.5-turbo\"):\n",
    "    messages = [{\"role\": \"user\", \"content\": prompt}]\n",
    "    response = openai.ChatCompletion.create(\n",
    "        model=model,\n",
    "        messages=messages,\n",
    "        temperature=0,\n",
    "\n",
    "    )\n",
    "\n",
    "    return response.choices[0].message[\"content\"]"
   ]
  },
  {
   "cell_type": "code",
   "execution_count": 11,
   "metadata": {},
   "outputs": [
    {
     "name": "stdout",
     "output_type": "stream",
     "text": [
      "1. Provide clear and specific instructions for the model to follow.\n",
      "2. Avoid confusion by being as detailed as possible in your prompt.\n",
      "3. Longer prompts can provide more clarity and context for the model.\n",
      "4. Clarity in instructions reduces the chances of receiving irrelevant or incorrect responses.\n"
     ]
    }
   ],
   "source": [
    "text = f\"\"\"\n",
    "You should express what you want a model to do by \\\n",
    "providing instructions that are as clear and \\\n",
    "specific as you can possibly make them. \\\n",
    "This will guide the model towards the desired output, \\\n",
    "and reduce the chances of receiving irrelevant \\\n",
    "or incorrect responses. Don't confuse writing a \\\n",
    "clear prompt with writing a short prompt. \\\n",
    "In many cases, longer prompts provide more clarity \\\n",
    "and context for the moyel, which can lead to\n",
    "more detailed and releant outputs.\n",
    "\n",
    "\"\"\"\n",
    "\n",
    "prompt = f\"\"\"\n",
    "give it in point wise manner and also give the number to point the text delimited by triple dash \\\n",
    "\n",
    "---{text}---\n",
    "\n",
    "\"\"\"\n",
    "\n",
    "\n",
    "response = get_completion(prompt)\n",
    "print(response)"
   ]
  },
  {
   "cell_type": "code",
   "execution_count": 5,
   "metadata": {},
   "outputs": [
    {
     "name": "stdout",
     "output_type": "stream",
     "text": [
      "{\n",
      "  \"books\": [\n",
      "    {\n",
      "      \"Book Title\": \"The Midnight Garden\",\n",
      "      \"Author\": \"Elena Rivers\",\n",
      "      \"Genre\": \"Fantasy\"\n",
      "    },\n",
      "    {\n",
      "      \"Book Title\": \"Echoes of the Past\",\n",
      "      \"Author\": \"Nathan Black\",\n",
      "      \"Genre\": \"Mystery\"\n",
      "    },\n",
      "    {\n",
      "      \"Book Title\": \"Whispers in the Wind\",\n",
      "      \"Author\": \"Samantha Reed\",\n",
      "      \"Genre\": \"Romance\"\n",
      "    }\n",
      "  ]\n",
      "}\n"
     ]
    }
   ],
   "source": [
    "prompt =f\"\"\"\n",
    "Generate a list of three made-up book titles along \\\n",
    "with their authors and genres form you side \\\n",
    "Provide them in JSON format with the following keys:\n",
    "\n",
    "Book Title\n",
    "Author\n",
    "Genre   \n",
    "\n",
    "\n",
    "\"\"\"\n",
    "\n",
    "\n",
    "\n",
    "response = get_completion(prompt)\n",
    "print(response)"
   ]
  },
  {
   "cell_type": "code",
   "execution_count": 8,
   "metadata": {},
   "outputs": [
    {
     "name": "stdout",
     "output_type": "stream",
     "text": [
      "No steps provided.\n"
     ]
    }
   ],
   "source": [
    "text_1 = f\"\"\"\n",
    "\n",
    "In the heart of a bustling metropolis, there lived a young man named Alex. Unbeknownst to the world, Alex possessed extraordinary abilities. He could move objects with his mind, run at incredible speeds, and even soar through the skies with nothing but his willpower.\n",
    "\n",
    "Despite his incredible powers, Alex lived a humble life, working as a librarian by day and using his abilities to help those in need under the cover of darkness. He believed that with great power came great responsibility, a motto instilled in him by his late parents who had also possessed similar abilities.\n",
    "\n",
    "One fateful night, as Alex patrolled the city streets, he heard the desperate cries of a woman in distress. Racing to the scene, he found a group of thugs harassing her. With lightning speed, Alex intervened, effortlessly disarming the assailants and ensuring the woman's safety.\n",
    "\n",
    "\n",
    "\"\"\"\n",
    "\n",
    "\n",
    "\n",
    "\n",
    "prompt = f\"\"\"\n",
    "You will be provided with text delimited by triple quotes.\n",
    "\n",
    "If it contains a sequence of instructions, \\\n",
    "re-write those instructions in the following format:\n",
    "Step 1 - ...\n",
    "Step 2 - ...\n",
    "Step N - ..\n",
    "If the text does not contain a sequence of instructions,\\\n",
    "then simply write \\\"No steps provided.\n",
    " ```{text_1}```\n",
    "\n",
    "\"\"\"\n",
    "\n",
    "\n",
    "response = get_completion(prompt)\n",
    "print(response)"
   ]
  },
  {
   "cell_type": "code",
   "execution_count": 11,
   "metadata": {},
   "outputs": [
    {
     "name": "stdout",
     "output_type": "stream",
     "text": [
      "<Teacher> You can find the highest common factor by listing the factors of each denominator and finding the largest number they have in common. That's your highest common factor. Remember to keep practicing, it will become more familiar over time.\n"
     ]
    }
   ],
   "source": [
    "prompt = f\"\"\"\n",
    "your task is to answer in consistent style. \n",
    "<Student> How do I find the least common denominator for fractions with different denominators?\n",
    "\n",
    "<Teacher> You can start by listing the multiples of each denominator and finding the smallest number they have in common. That's your least common denominator. Keep practicing, it'll get easier.\n",
    "\n",
    "<student> how do i fine the Highest common factor for fractions with different denominators?\n",
    "\"\"\"\n",
    "\n",
    "response = get_completion(prompt)\n",
    "print(response)"
   ]
  },
  {
   "cell_type": "code",
   "execution_count": 13,
   "metadata": {},
   "outputs": [
    {
     "name": "stdout",
     "output_type": "stream",
     "text": [
      "1 - The text is about two adventurous friends, Lily and James, who discover a hidden cottage in the woods and embark on a quest to find a treasure chest that holds their unbreakable bond.\n",
      "\n",
      "2 - Is kahani mein do adventurous dost, Lily aur James, ek chhupi hui cottage ko dhoondte hain aur ek khoj par nikalte hain jisme unka tutne wala rishta hai.\n",
      "\n",
      "3 - Lily, James\n",
      "\n",
      "4 - \n",
      "{\n",
      "  \"hindi_summary\": \"Is kahani mein do adventurous dost, Lily aur James, ek chhupi hui cottage ko dhoondte hain aur ek khoj par nikalte hain jisme unka tutne wala rishta hai.\",\n",
      "  \"num_names\": 2\n",
      "}\n"
     ]
    }
   ],
   "source": [
    "text = f\"\"\"\n",
    "\n",
    "\n",
    "In a cozy village nestled betw  een rolling hills, Lily and James, two adventurous friends, stumbled upon a hidden cottage tucked away in the woods. Intrigued by its mystery, they embarked on a quest, braving forests and scaling mountains. At last, atop a hill, they unearthed a treasure chest. Inside, amidst gleaming riches, they found the true treasure—their unbreakable bond, forged through shared adventures and endless laughter.\n",
    "\"\"\"\n",
    "\n",
    "\n",
    "prompt_1 = f\"\"\"\n",
    "Perform the following actions:\n",
    "\n",
    "1 - Summarize the following text delimited by triple \\\n",
    "backticks with 1 sentence.\n",
    "2 - Translate the summary into Hinglish.\n",
    "3 - List each nime in the hindi summary.\n",
    "4 - Output a json object that contains the following \\\n",
    "\n",
    "keys: hindi_summary, num_names.\n",
    "\n",
    "Separate your answers with line breaks.\n",
    "Text:```{text}```.\n",
    "\"\"\"\n",
    "\n",
    "response = get_completion(prompt_1)\n",
    "print(response)"
   ]
  },
  {
   "cell_type": "code",
   "execution_count": 3,
   "metadata": {},
   "outputs": [
    {
     "name": "stdout",
     "output_type": "stream",
     "text": [
      "The Weiiqaeilnsoewseneo smart phone is a high-end device that offers a range of advanced features and capabilities. It features a sleek and modern design with a large, vibrant display that provides crisp and clear visuals. The phone is powered by a fast and efficient processor, allowing for smooth and seamless performance when running multiple apps or tasks.\n",
      "\n",
      "The Weiiqaeilnsoewseneo smart phone also boasts a high-quality camera system, with multiple lenses that capture stunning photos and videos in various lighting conditions. It also offers advanced photography features such as portrait mode, night mode, and AI enhancements for optimal image quality.\n",
      "\n",
      "In terms of connectivity, the Weiiqaeilnsoewseneo smart phone supports 5G technology for lightning-fast internet speeds and seamless streaming and downloading. It also features a long-lasting battery that provides all-day usage without needing frequent recharging.\n",
      "\n",
      "Overall, the Weiiqaeilnsoewseneo smart phone is a top-of-the-line device that offers a premium user experience with its cutting-edge technology and sleek design.\n"
     ]
    }
   ],
   "source": [
    "prompt = f\"\"\"\n",
    "\n",
    " give me detail description about the Weiiqaeilnsoewseneo smart phone in english\n",
    "\"\"\"\n",
    "response = get_completion(prompt)\n",
    "print (response)"
   ]
  },
  {
   "cell_type": "code",
   "execution_count": 5,
   "metadata": {},
   "outputs": [
    {
     "name": "stdout",
     "output_type": "stream",
     "text": [
      "I'm sorry, but I cannot provide a detailed description of the Vivo smartphone as I do not have access to specific information about it. I recommend visiting the official Vivo website or contacting their customer service for more detailed information about their smartphones.\n"
     ]
    }
   ],
   "source": [
    "prompt = f\"\"\"\n",
    "\n",
    " give me detail description about the vivo smart phone in english ?\n",
    "\n",
    " give only if you find out infomartion about it otherwise give me nothing like this exist \n",
    "\n",
    "\"\"\"\n",
    "response = get_completion(prompt)\n",
    "print (response)"
   ]
  },
  {
   "cell_type": "code",
   "execution_count": 7,
   "metadata": {},
   "outputs": [],
   "source": [
    "fact_sheet_table = \"\"\"\n",
    "OVERVIEW\n",
    "\n",
    "Part of a stylish collection of contemporary office furniture,\n",
    "featuring desks, storage units, chairs, and accessories.\n",
    "Available in various sizes and configurations to suit different needs.\n",
    "Options include different finishes and materials for tabletop and legs.\n",
    "Suitable for both home offices and commercial workspaces.\n",
    "Designed for durability and functionality.\n",
    "CONSTRUCTION\n",
    "\n",
    "Sturdy steel frame with powder-coated finish for stability and longevity.\n",
    "Tabletop available in high-quality laminate or solid wood options.\n",
    "DIMENSIONS\n",
    "\n",
    "WIDTH 120 CM | 47.24”\n",
    "DEPTH 60 CM | 23.62”\n",
    "HEIGHT 75 CM | 29.53”\n",
    "OPTIONS\n",
    "\n",
    "Choice of tabletop finishes: walnut laminate, oak laminate, or solid wood.\n",
    "Legs available in matte black, brushed steel, or chrome finishes.\n",
    "Optional cable management solutions for a clutter-free workspace.\n",
    "MATERIALS\n",
    "TABLETOP\n",
    "\n",
    "High-pressure laminate or solid wood options.\n",
    "Scratch-resistant and easy to clean for long-lasting use.\n",
    "\n",
    "FRAME\n",
    "Steel frame with powder-coated finish for durability and stability.\n",
    "\n",
    "COUNTRY OF ORIGIN\n",
    "Designed and manufactured in Denmark.\n",
    "\n",
    "\"\"\"\n"
   ]
  },
  {
   "cell_type": "code",
   "execution_count": 11,
   "metadata": {},
   "outputs": [
    {
     "name": "stdout",
     "output_type": "stream",
     "text": [
      "Introducing our contemporary office desk, part of a stylish collection with various sizes and finishes. Sturdy steel frame, high-quality tabletop options, and optional cable management for a clutter-free workspace. Designed in Denmark for durability and functionality.\n",
      "\n",
      "Product ID: 75 CM | 47.24\"\n"
     ]
    }
   ],
   "source": [
    "prompt = f\"\"\"\n",
    "Your task is to help a marketing team create a \n",
    "description for a retail website of a product based \n",
    "on a technical fact sheet.in a point wise manner \n",
    "\n",
    "Write a product description based on the information \n",
    "provided in the technical specifications delimited by \n",
    "triple backticks.\n",
    "\n",
    "use atmost 50 words only\n",
    "\n",
    "At the end of the description, include every 7-character \n",
    "Product ID in the technical specification.\n",
    "\n",
    "\n",
    "\n",
    "Technical specifications: ```{fact_sheet_table}```\n",
    "\"\"\"\n",
    "response = get_completion(prompt)\n",
    "print(response)"
   ]
  },
  {
   "cell_type": "code",
   "execution_count": 12,
   "metadata": {},
   "outputs": [
    {
     "name": "stdout",
     "output_type": "stream",
     "text": [
      "<div>\n",
      "Stylish and durable office desk with various size and finish options. \n",
      "Suitable for home or commercial use. Designed in Denmark.\n",
      "\n",
      "Product ID: 75 CM | 47.24” | 23.62” | 29.53”\n",
      "\n",
      "<table>\n",
      "  <caption>Product Dimensions</caption>\n",
      "  <tr>\n",
      "    <td>WIDTH</td>\n",
      "    <td>47.24\"</td>\n",
      "  </tr>\n",
      "  <tr>\n",
      "    <td>DEPTH</td>\n",
      "    <td>23.62\"</td>\n",
      "  </tr>\n",
      "  <tr>\n",
      "    <td>HEIGHT</td>\n",
      "    <td>29.53\"</td>\n",
      "  </tr>\n",
      "</table>\n",
      "</div>\n"
     ]
    }
   ],
   "source": [
    "prompt = f\"\"\"\n",
    "Your task is to help a marketing team create a \n",
    "description for a retail website of a product based \n",
    "on a technical fact sheet.in a point wise manner \n",
    "\n",
    "Write a product description based on the information \n",
    "provided in the technical specifications delimited by \n",
    "triple backticks.\n",
    "\n",
    "use atmost 50 words only\n",
    "\n",
    "At the end of the description, include every 7-character \n",
    "Product ID in the technical specification.\n",
    "\n",
    "\n",
    "\n",
    "\n",
    "After the description, include a table that gives the \n",
    "product's dimensions. The table should have two columns.\n",
    "In the first column include the name of the dimension. \n",
    "In the second column include the measurements in inches only.\n",
    "\n",
    "Give the table the title 'Product Dimensions'.\n",
    "\n",
    "Format everything as HTML that can be used in a website. \n",
    "Place the description in a <div> element.\n",
    "\n",
    "\n",
    "\n",
    "Technical specifications: ```{fact_sheet_table}```\n",
    "\"\"\"\n",
    "response = get_completion(prompt)\n",
    "print(response) "
   ]
  },
  {
   "cell_type": "markdown",
   "metadata": {},
   "source": [
    "# summarizartion"
   ]
  },
  {
   "cell_type": "code",
   "execution_count": 15,
   "metadata": {},
   "outputs": [
    {
     "name": "stdout",
     "output_type": "stream",
     "text": [
      "Great smartphone with sleek design, vibrant display, impressive camera, and early delivery, but battery life could be better.\n"
     ]
    }
   ],
   "source": [
    "prod_review = \"\"\"\n",
    "Bought this new smartphone for my wife's birthday, and she's thrilled with it! The sleek design and vibrant display make it a standout choice. The camera quality is impressive, capturing stunning photos and videos. However, the battery life could be better for the price point. Despite that, it arrived earlier than expected, allowing me to set it up with her favorite apps before surprising her. Overall, a great purchase that brings joy to my wife's everyday life.\n",
    "\"\"\"\n",
    "\n",
    "prompt = f\"\"\"\n",
    "Your task is to generate a short summary of a product \\\n",
    "review from an ecommerce site. \n",
    "\n",
    "Summarize the review below, delimited by triple \n",
    "backticks, in at most 20 words. \n",
    "\n",
    "Review: ```{prod_review}```\n",
    "\"\"\"\n",
    "\n",
    "response = get_completion(prompt)\n",
    "print(response) "
   ]
  },
  {
   "cell_type": "code",
   "execution_count": 20,
   "metadata": {},
   "outputs": [
    {
     "name": "stdout",
     "output_type": "stream",
     "text": [
      "The camera quality is impressive, capturing stunning photos and videos.\n"
     ]
    }
   ],
   "source": [
    "prompt = f\"\"\"\n",
    "Your task is to extract relevant information from \\ \n",
    "a product review from an ecommerce site to give \\\n",
    "feedback to the Shipping department. \n",
    "\n",
    "From the review below, delimited by triple quotes \\\n",
    "extract the information relevant to camera quealuty . Limit to 30 words .\n",
    "\n",
    "Review: ```{prod_review}```\n",
    "\"\"\"\n",
    "\n",
    "response = get_completion(prompt)\n",
    "print(response)"
   ]
  },
  {
   "cell_type": "code",
   "execution_count": 23,
   "metadata": {},
   "outputs": [
    {
     "name": "stdout",
     "output_type": "stream",
     "text": [
      "2 Great wireless earphones with impressive sound quality, comfortable fit, and quick shipping. Highly satisfied with purchase. \n",
      "\n"
     ]
    }
   ],
   "source": [
    "review_5 = \"\"\"\n",
    "Purchased this new smartphone cover for my device, and I'm delighted with its quality! The design is sleek, providing excellent protection without adding bulk. The shipping was swift, arriving within two days of ordering. Overall, highly recommended!\n",
    "\"\"\"\n",
    "\n",
    "review_6 = \"\"\"\n",
    "Bought this stylish back cover for my smartphone, and it exceeded my expectations! The matte finish feels premium, and the snug fit offers excellent protection. Shipping was fast, arriving within two days. Couldn't be happier with my purchase!\n",
    "\"\"\"\n",
    "\n",
    "review_7 = \"\"\"\n",
    "Recently acquired these wireless earphones, and they're fantastic! The sound quality is impressive, delivering crisp highs and deep bass. The ergonomic design ensures a comfortable fit for extended wear. Shipping was quick, arriving within two days. Highly satisfied!\n",
    "\"\"\"\n",
    "\n",
    "reviews = [review_5, review_6, review_7]\n",
    "\n",
    "for i in range(len(reviews)):\n",
    "    prompt = f\"\"\"\n",
    "    Your task is to generate a short summary  \\ \n",
    "    review from an ecommerce site. \n",
    "\n",
    "    Summarize the review below, delimited by triple \\\n",
    "    backticks in at most 20 words. \n",
    "\n",
    "    Review: ```{reviews[i]}```\n",
    "    \"\"\"\n",
    "    response = get_completion(prompt)\n",
    "    print(i, response, \"\\n\")"
   ]
  },
  {
   "cell_type": "code",
   "execution_count": 27,
   "metadata": {},
   "outputs": [
    {
     "name": "stdout",
     "output_type": "stream",
     "text": [
      "positive\n"
     ]
    }
   ],
   "source": [
    "backcover_review = \"\"\"\n",
    "Looking for a sleek back cover for my smartphone, and this one exceeded my expectations! and the cover made by the company and its name is The minimalist design and matte finish give it a premium look and feel. Shipping was swift, arriving within two days. Highly recommend!\n",
    "\"\"\"\n",
    "\n",
    "prompt = f\"\"\"\n",
    "What is the sentiment of the following product review, \n",
    "which is delimited with triple backticks?\n",
    "Give your answer as either psotive or negative.\n",
    "\n",
    "Review text: '''{backcover_review}'''\n",
    "\"\"\"\n",
    "response = get_completion(prompt)\n",
    "print(response)\n",
    "\n",
    "\n",
    "\n"
   ]
  },
  {
   "cell_type": "code",
   "execution_count": 34,
   "metadata": {},
   "outputs": [],
   "source": [
    "backcover_review = \"\"\"\n",
    "Looking for a sleek back cover for my smartphone, and this one exceeded my expectations! and the cover made by the company and its name is The minimalist design and matte finish give it a premium look and feel. Shipping was swift, arriving within two days. Highly recommend!\n",
    "\"\"\""
   ]
  },
  {
   "cell_type": "code",
   "execution_count": 25,
   "metadata": {},
   "outputs": [
    {
     "name": "stdout",
     "output_type": "stream",
     "text": [
      "excited, satisfied, impressed, happy, recommend\n"
     ]
    }
   ],
   "source": [
    "prompt = f\"\"\"\n",
    "Identify a list of emotions that the writer of the \\\n",
    "following review is expressing. Include no more than \\\n",
    "five items in the list. Format your answer as a list of \\\n",
    "lower-case words separated by commas.\n",
    "\n",
    "Review text: '''{backcover_review}'''\n",
    "\"\"\"\n",
    "response = get_completion(prompt)\n",
    "print(response)"
   ]
  },
  {
   "cell_type": "code",
   "execution_count": 37,
   "metadata": {},
   "outputs": [
    {
     "name": "stdout",
     "output_type": "stream",
     "text": [
      "{\n",
      "  \"Item\": \"back cover\",\n",
      "  \"Brand\": \"The company\",\n",
      "  \"sentiment\": \"positive\"\n",
      "}\n"
     ]
    },
    {
     "data": {
      "text/plain": [
       "'\\ninput \\noutput\\ntask \\ncontext\\nexample\\ntone \\n\\n'"
      ]
     },
     "execution_count": 37,
     "metadata": {},
     "output_type": "execute_result"
    }
   ],
   "source": [
    "prompt = f\"\"\"\n",
    "Identify the following items from the review text: \n",
    "- Item purchased by reviewer\n",
    "- Company that made the item\n",
    "What is the sentiment of the following product review\n",
    "\n",
    "\n",
    "Give your answer as either psotive or negative\n",
    "\n",
    "The review is delimited with triple backticks. \\\n",
    "Format your response as a JSON with columns as object with \\\n",
    "\n",
    "\"Item\" and \"Brand\" ,and sentiment as the keys. \n",
    "\n",
    "If the information isn't present, use \"sorry i m not able to get right now \" \\\n",
    "as the value.\n",
    "\n",
    "Make your response as short as possible.\n",
    "\n",
    "\n",
    "  \n",
    "Review text: '''{backcover_review}'''\n",
    "\"\"\"\n",
    "response = get_completion(prompt)\n",
    "print(response)\n",
    "\n",
    "\n",
    "\"\"\"\n",
    "input \n",
    "output\n",
    "task \n",
    "context\n",
    "example\n",
    "tone \n",
    "\n",
    "\"\"\""
   ]
  },
  {
   "cell_type": "code",
   "execution_count": 38,
   "metadata": {},
   "outputs": [
    {
     "name": "stdout",
     "output_type": "stream",
     "text": [
      "1. Indian Space Research Organisation\n",
      "2. Space exploration\n",
      "3. Technology\n",
      "4. Satellites\n",
      "5. Mars Orbiter Mission\n"
     ]
    }
   ],
   "source": [
    "story = \"\"\"\n",
    "The Indian Space Research Organisation (ISRO) stands as a beacon of scientific excellence and innovation, spearheading India's remarkable advancements in space exploration and technology. Established in 1969, ISRO has consistently achieved remarkable milestones, including the successful launch of satellites, lunar missions, and interplanetary explorations. With a mission to harness space technology for national development and societal benefits, ISRO has significantly contributed to telecommunication, weather forecasting, disaster management, and navigation systems. Its endeavors, such as the Mars Orbiter Mission (Mangalyaan) and the Chandrayaan missions, have garnered international acclaim, showcasing India's prowess in space exploration on a global stage.\n",
    "\"\"\"\n",
    "\n",
    "\n",
    "prompt = f\"\"\"\n",
    "Determine five topics that are being discussed in the \\\n",
    "following text, which is delimited by triple backticks.\n",
    "\n",
    "Make each item one or two words long. \n",
    "\n",
    "Format your response as a list of items separated by commas.\n",
    "\n",
    "Text sample: '''{story}'''\n",
    "\"\"\"\n",
    "response = get_completion(prompt)\n",
    "print(response)\n"
   ]
  },
  {
   "cell_type": "code",
   "execution_count": 40,
   "metadata": {},
   "outputs": [
    {
     "name": "stdout",
     "output_type": "stream",
     "text": [
      "नमस्ते, मुझे एक आलू पराठा आर्डर करना है।\n"
     ]
    }
   ],
   "source": [
    "prompt = f\"\"\"\n",
    "Translate the following English text to HInglish \\ \n",
    "```Hi, I would like to order a allo paratha```\n",
    "\"\"\"\n",
    "response = get_completion(prompt)\n",
    "print(response)"
   ]
  },
  {
   "cell_type": "code",
   "execution_count": 42,
   "metadata": {},
   "outputs": [
    {
     "name": "stdout",
     "output_type": "stream",
     "text": [
      "| name | email                | उम्र |\n",
      "|------|----------------------|------|\n",
      "| Shyam| shyamjaiswal@gmail.com| 25   |\n",
      "| Bob  | bob32@gmail.com      | 28   |\n",
      "| Jai  | jai87@gmail.com      | 30   |\n"
     ]
    }
   ],
   "source": [
    "\n",
    "data_json = { \"resturant_employees\" :[\n",
    "{\"name\":\"Shyam\", \"email\":\"shyamjaiswal@gmail.com\", \"उम्र\": \"25\"},\n",
    "{\"name\":\"Bob\", \"email\":\"bob32@gmail.com\", \"उम्र\": \"28\"},\n",
    "{\"name\":\"Jai\", \"email\":\"jai87@gmail.com\", \"उम्र\": \"30\"}\n",
    "]}\n",
    "\n",
    "prompt = f\"\"\"\n",
    "Translate the following python dictionary from JSON  in tablualr format\n",
    "table with column headers and title: {data_json}\n",
    "\"\"\"\n",
    "response = get_completion(prompt)\n",
    "print(response)  "
   ]
  },
  {
   "cell_type": "code",
   "execution_count": 43,
   "metadata": {},
   "outputs": [],
   "source": [
    "# expanding :\n",
    "sentiment = \"negative\"\n",
    "\n",
    "review = f\"\"\"\n",
    "So, they still had the 17 piece system on seasonal \\\n",
    "sale for around $49 in the month of November, about \\\n",
    "half off, but for some reason (call it price gouging) \\\n",
    "around the second week of December the prices all went \\\n",
    "up to about anywhere from between $70-$89 for the same \\\n",
    "system. And the 11 piece system went up around $10 or \\\n",
    "so in price also from the earlier sale price of $29. \\\n",
    "So it looks okay, but if you look at the base, the part \\\n",
    "where the blade locks into place doesn’t look as good \\\n",
    "as in previous editions from a few years ago, but I \\\n",
    "plan to be very gentle with it (example, I crush \\\n",
    "very hard items like beans, ice, rice, etc. in the \\ \n",
    "blender first then pulverize them in the serving size \\\n",
    "I want in the blender then switch to the whipping \\\n",
    "blade for a finer flour, and use the cross cutting blade \\\n",
    "first when making smoothies, then use the flat blade \\\n",
    "if I need them finer/less pulpy). Special tip when making \\\n",
    "smoothies, finely cut and freeze the fruits and \\\n",
    "vegetables (if using spinach-lightly stew soften the \\ \n",
    "spinach then freeze until ready for use-and if making \\\n",
    "sorbet, use a small to medium sized food processor) \\ \n",
    "that you plan to use that way you can avoid adding so \\\n",
    "much ice if at all-when making your smoothie. \\\n",
    "After about a year, the motor was making a funny noise. \\\n",
    "I called customer service but the warranty expired \\\n",
    "already, so I had to buy another one. FYI: The overall \\\n",
    "quality has gone done in these types of products, so \\\n",
    "they are kind of counting on brand recognition and \\\n",
    "consumer loyalty to maintain sales. Got it in about \\\n",
    "two days.\n",
    "\"\"\""
   ]
  },
  {
   "cell_type": "code",
   "execution_count": 46,
   "metadata": {},
   "outputs": [
    {
     "name": "stdout",
     "output_type": "stream",
     "text": [
      "Dear Valued Customer,\n",
      "\n",
      "Thank you for taking the time to share your feedback with us. We are sorry to hear about your experience with the price changes and the quality of the product. We apologize for any inconvenience this may have caused you.\n",
      "\n",
      "If you have any further concerns or would like to discuss this matter further, please feel free to reach out to our customer service team. They will be more than happy to assist you.\n",
      "\n",
      "Thank you again for your review and for being a loyal customer. We appreciate your feedback as it helps us improve our products and services.\n",
      "\n",
      "Warm regards,\n",
      "AI customer agent\n"
     ]
    }
   ],
   "source": [
    "prompt = f\"\"\"\n",
    "You are a prince chatbot assistant.\n",
    "\n",
    "Your task is to send an email reply to a valued customer.\n",
    "Given the customer email delimited by ```, \\\n",
    "Generate a reply to thank the customer for their review.\n",
    "If the sentiment is positive or neutral, thank them for \\\n",
    "their review.\n",
    "If the sentiment is negative, apologize and suggest that \\\n",
    "they can reach out to customer service. \n",
    "\n",
    "Make sure to use specific details from the review.\n",
    "Write in a concise and chidlish tone.\n",
    "Sign the email as `AI customer agent`.\n",
    "\n",
    "Customer review: ```{review}```\n",
    "Review sentiment: {sentiment}\n",
    "\"\"\"\n",
    "response = get_completion(prompt)\n",
    "print(response)"
   ]
  },
  {
   "cell_type": "code",
   "execution_count": null,
   "metadata": {},
   "outputs": [],
   "source": []
  }
 ],
 "metadata": {
  "kernelspec": {
   "display_name": "Python 3",
   "language": "python",
   "name": "python3"
  },
  "language_info": {
   "codemirror_mode": {
    "name": "ipython",
    "version": 3
   },
   "file_extension": ".py",
   "mimetype": "text/x-python",
   "name": "python",
   "nbconvert_exporter": "python",
   "pygments_lexer": "ipython3",
   "version": "3.11.0"
  }
 },
 "nbformat": 4,
 "nbformat_minor": 2
}

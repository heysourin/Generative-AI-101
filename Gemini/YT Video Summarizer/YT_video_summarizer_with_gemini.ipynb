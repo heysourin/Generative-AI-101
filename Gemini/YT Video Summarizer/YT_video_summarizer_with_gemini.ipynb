{
  "nbformat": 4,
  "nbformat_minor": 0,
  "metadata": {
    "colab": {
      "provenance": [],
      "authorship_tag": "ABX9TyPEihpjv5hi365atGNMB5AP",
      "include_colab_link": true
    },
    "kernelspec": {
      "name": "python3",
      "display_name": "Python 3"
    },
    "language_info": {
      "name": "python"
    }
  },
  "cells": [
    {
      "cell_type": "markdown",
      "metadata": {
        "id": "view-in-github",
        "colab_type": "text"
      },
      "source": [
        "<a href=\"https://colab.research.google.com/github/heysourin/Generative-AI-101/blob/main/Gemini/YT%20Video%20Summarizer/YT_video_summarizer_with_gemini.ipynb\" target=\"_parent\"><img src=\"https://colab.research.google.com/assets/colab-badge.svg\" alt=\"Open In Colab\"/></a>"
      ]
    },
    {
      "cell_type": "markdown",
      "source": [
        "# **YouTube Video Summarizer Using Google Gemini API**"
      ],
      "metadata": {
        "id": "eeW3L6-HImK2"
      }
    },
    {
      "cell_type": "markdown",
      "source": [
        "### **Credits:** Krish Naik YT Channel"
      ],
      "metadata": {
        "id": "HyVLmASDItdQ"
      }
    },
    {
      "cell_type": "code",
      "execution_count": null,
      "metadata": {
        "id": "Wo8oy_KbJdVf"
      },
      "outputs": [],
      "source": [
        "!pip install -q youtube-transcript-api google-generativeai pathlib"
      ]
    },
    {
      "cell_type": "code",
      "source": [
        "from google.colab import userdata\n",
        "Google_api_key = userdata.get('GOOGLE_API_KEY')"
      ],
      "metadata": {
        "id": "tFwHf9F0Mvnf"
      },
      "execution_count": null,
      "outputs": []
    },
    {
      "cell_type": "code",
      "source": [
        "import google.generativeai as genai"
      ],
      "metadata": {
        "id": "88_J_QIAP5JA"
      },
      "execution_count": null,
      "outputs": []
    },
    {
      "cell_type": "code",
      "source": [
        "genai.configure(api_key=Google_api_key)"
      ],
      "metadata": {
        "id": "3__z2VyvP_Ad"
      },
      "execution_count": null,
      "outputs": []
    },
    {
      "cell_type": "code",
      "source": [
        "prompt = \"\"\"\n",
        "  You are YouTube video summarizer,\n",
        "  you will be taking the trarnscript text and\n",
        "  summarizing the entire video and providing the important summary in points\n",
        "  within 250 words.\n",
        "  The transcript text will be appended here:\n",
        "\"\"\""
      ],
      "metadata": {
        "id": "B-ihRNkoQdjz"
      },
      "execution_count": null,
      "outputs": []
    },
    {
      "cell_type": "code",
      "source": [
        "def generate_gemini_content(transcript_text, prompt):\n",
        "  model = genai.GenerativeModel(\"gemini-pro\")\n",
        "  response = model.generate_content(prompt + transcript_text)\n",
        "  return response.text"
      ],
      "metadata": {
        "id": "xx2Q9CjcQFFN"
      },
      "execution_count": null,
      "outputs": []
    },
    {
      "cell_type": "code",
      "source": [
        "from youtube_transcript_api import YouTubeTranscriptApi"
      ],
      "metadata": {
        "id": "vvnZKQ24EInq"
      },
      "execution_count": null,
      "outputs": []
    },
    {
      "cell_type": "code",
      "source": [
        "def extract_transcript_details(youtube_video_url):\n",
        "  try:\n",
        "    video_id = youtube_video_url.split(\"=\")[-1]\n",
        "    transcript = YouTubeTranscriptApi.get_transcript(video_id)\n",
        "\n",
        "    transcript_text = \"\"\n",
        "    for segment in transcript:\n",
        "      transcript_text += segment[\"text\"] + \" \"\n",
        "    return transcript_text\n",
        "\n",
        "  except Exception as e:\n",
        "    raise e"
      ],
      "metadata": {
        "id": "2HX2UlMPF0LK"
      },
      "execution_count": null,
      "outputs": []
    },
    {
      "cell_type": "code",
      "source": [
        "url = \"https://www.youtube.com/watch?v=NheTjGeGELo\"\n",
        "transcript = extract_transcript_details(url)\n",
        "summary = generate_gemini_content(transcript, prompt)\n",
        "print(summary)"
      ],
      "metadata": {
        "colab": {
          "base_uri": "https://localhost:8080/",
          "height": 662
        },
        "id": "eDG4HKE2G8LA",
        "outputId": "dabb87a1-90c0-41d4-f73c-341a9ac79bd5"
      },
      "execution_count": null,
      "outputs": [
        {
          "output_type": "stream",
          "name": "stdout",
          "text": [
            "**Summary of the Video**\n",
            "\n",
            "Ash Akash, a former Tech Lead at Google, shares his accelerated career path and the lessons he learned along the way.\n",
            "\n",
            "**Key Points**\n",
            "\n",
            "* **Overcoming Imposter Syndrome:**\n",
            "    * Focus on learning and improving rather than comparing yourself to others.\n",
            "    * Create a positive mindset by recognizing the unique skills and contributions you bring.\n",
            "    * Seek support from a supportive manager who believes in your potential.\n",
            "\n",
            "* **Managing Focus and Productivity:**\n",
            "    * Optimize for focus by reducing distractions (e.g., using a clutter-free desk, avoiding social media).\n",
            "    * Set structured time blocks for work and stick to them.\n",
            "    * Delegate tasks to others and focus on high-impact activities.\n",
            "\n",
            "* **Earning Promotions and Impact:**\n",
            "    * Create a strategic plan with your manager to identify and work on impact-driven projects.\n",
            "    * Seek specific feedback on your performance and areas for improvement.\n",
            "    * Focus on business value and customer needs to demonstrate your contributions.\n",
            "\n",
            "* **Asking for the Right Support:**\n",
            "    * Establish regular one-on-one meetings with your manager to discuss growth and feedback.\n",
            "    * Ask specific questions about areas you want to improve (e.g., \"How can I demonstrate stronger leadership skills?\").\n",
            "    * Be open to constructive criticism and use it to drive your development.\n",
            "\n",
            "* **Growing as a Leader:**\n",
            "    * Recognize that leadership is a skill that can be learned and improved upon.\n",
            "    * Adapt your leadership style to the needs of your team and individual reports.\n",
            "    * Cultivate a growth mindset and seek opportunities for continuous learning.\n",
            "\n",
            "**The Transformative Impact of AI and Security:**\n",
            "\n",
            "* AI has the potential to revolutionize industries and improve human life.\n",
            "* It is essential to develop AI technologies that are safe and trustworthy.\n",
            "* Collaborative efforts between tech companies and researchers are necessary to harness the transformative power of AI while mitigating potential risks.\n"
          ]
        }
      ]
    }
  ]
}